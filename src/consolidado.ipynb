{
 "cells": [
  {
   "cell_type": "code",
   "execution_count": null,
   "metadata": {},
   "outputs": [],
   "source": [
    "%load_ext autoreload\n",
    "%autoreload 2"
   ]
  },
  {
   "cell_type": "code",
   "execution_count": null,
   "metadata": {},
   "outputs": [],
   "source": [
    "import pandas as pd\n",
    "pd.options.plotting.backend = \"plotly\"\n",
    "\n",
    "from b3.acoes import Acoes\n",
    "from b3.fiis import FIIs\n",
    "from tesouro_direto import TesouroDireto\n",
    "from banco_inter.renda_fixa import BancoInterRendaFixa\n",
    "\n",
    "import plotly.express as px"
   ]
  },
  {
   "cell_type": "code",
   "execution_count": null,
   "metadata": {},
   "outputs": [],
   "source": [
    "df_acoes = Acoes().run()"
   ]
  },
  {
   "cell_type": "code",
   "execution_count": null,
   "metadata": {},
   "outputs": [],
   "source": [
    "px.treemap(\n",
    "    df_acoes[['setor', 'subsetor', 'segmento', 'cod_acao', 'pct_vlr_acao']], \n",
    "    path=[\"setor\", \"subsetor\", \"segmento\", \"cod_acao\"], \n",
    "    values=\"pct_vlr_acao\",\n",
    "    width=1000, height=800\n",
    "    )"
   ]
  },
  {
   "attachments": {},
   "cell_type": "markdown",
   "metadata": {},
   "source": [
    "---"
   ]
  },
  {
   "cell_type": "code",
   "execution_count": null,
   "metadata": {},
   "outputs": [],
   "source": [
    "df_fiis = FIIs().run()"
   ]
  },
  {
   "cell_type": "code",
   "execution_count": null,
   "metadata": {},
   "outputs": [],
   "source": [
    "px.treemap(\n",
    "    df_fiis[['setor', 'subsetor', 'cod_acao', 'pct_vlr_fii']], \n",
    "    path=['setor', 'subsetor', 'cod_acao'], \n",
    "    values=\"pct_vlr_fii\",\n",
    "    width=1000, height=800\n",
    "    )"
   ]
  },
  {
   "attachments": {},
   "cell_type": "markdown",
   "metadata": {},
   "source": [
    "---"
   ]
  },
  {
   "cell_type": "code",
   "execution_count": null,
   "metadata": {},
   "outputs": [],
   "source": [
    "df_renda_variavel = pd.concat(\n",
    "    [\n",
    "        df_acoes[\n",
    "            ['des_tipo_investimento', 'setor', 'subsetor', 'cod_acao', 'vlr_total']],\n",
    "        df_fiis[\n",
    "            ['des_tipo_investimento', 'setor', 'subsetor', 'cod_acao', 'vlr_total']]\n",
    "    ]\n",
    ")\n",
    "\n",
    "df_renda_variavel[\"vlr_total_carteira\"] = df_renda_variavel.loc[:, \"vlr_total\"].sum()\n",
    "df_renda_variavel[\"pct_vlr_acao\"] = (\n",
    "    df_renda_variavel[\"vlr_total\"] / df_renda_variavel[\"vlr_total_carteira\"]\n",
    ") * 100\n"
   ]
  },
  {
   "cell_type": "code",
   "execution_count": null,
   "metadata": {},
   "outputs": [],
   "source": [
    "px.treemap(\n",
    "    df_renda_variavel, \n",
    "    path=['des_tipo_investimento', 'setor', 'subsetor', 'cod_acao'], \n",
    "    values=\"pct_vlr_acao\",\n",
    "    width=1000, height=800\n",
    "    )"
   ]
  },
  {
   "attachments": {},
   "cell_type": "markdown",
   "metadata": {},
   "source": [
    "---"
   ]
  },
  {
   "cell_type": "code",
   "execution_count": null,
   "metadata": {},
   "outputs": [],
   "source": [
    "df_tesouro_direto = TesouroDireto().run()\n",
    "df_banco_inter = BancoInterRendaFixa().run()"
   ]
  },
  {
   "cell_type": "code",
   "execution_count": null,
   "metadata": {},
   "outputs": [],
   "source": [
    "df_renda_fixa = pd.concat([\n",
    "    df_tesouro_direto[['setor', 'subsetor', 'des_produto', 'vlr_liquido']], \n",
    "    df_banco_inter[['setor', 'subsetor', 'des_produto', 'vlr_liquido']]\n",
    "])\n",
    "\n",
    "\n",
    "df_renda_fixa[\"vlr_total_carteira\"] = df_renda_fixa.loc[:, \"vlr_liquido\"].sum()\n",
    "df_renda_fixa[\"pct_vlr_liquido\"] = (\n",
    "    df_renda_fixa[\"vlr_liquido\"] / df_renda_fixa[\"vlr_total_carteira\"]\n",
    ") * 100"
   ]
  },
  {
   "cell_type": "code",
   "execution_count": null,
   "metadata": {},
   "outputs": [],
   "source": [
    "px.treemap(\n",
    "    df_renda_fixa, \n",
    "    path=['setor', 'subsetor', 'des_produto'], \n",
    "    values=\"pct_vlr_liquido\",\n",
    "    width=1000, height=800\n",
    "    )"
   ]
  },
  {
   "cell_type": "code",
   "execution_count": null,
   "metadata": {},
   "outputs": [],
   "source": []
  }
 ],
 "metadata": {
  "kernelspec": {
   "display_name": "carteira-investimento",
   "language": "python",
   "name": "python3"
  },
  "language_info": {
   "codemirror_mode": {
    "name": "ipython",
    "version": 3
   },
   "file_extension": ".py",
   "mimetype": "text/x-python",
   "name": "python",
   "nbconvert_exporter": "python",
   "pygments_lexer": "ipython3",
   "version": "3.10.9"
  },
  "orig_nbformat": 4,
  "vscode": {
   "interpreter": {
    "hash": "066830e0826a84028d2b42ea7e64b0567458335b605ad2d353cf492d0e19e1f4"
   }
  }
 },
 "nbformat": 4,
 "nbformat_minor": 2
}
