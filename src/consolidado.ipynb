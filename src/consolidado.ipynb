{
 "cells": [
  {
   "cell_type": "code",
   "execution_count": 1,
   "metadata": {},
   "outputs": [],
   "source": [
    "%load_ext autoreload\n",
    "%autoreload 2"
   ]
  },
  {
   "cell_type": "code",
   "execution_count": 2,
   "metadata": {},
   "outputs": [
    {
     "name": "stdout",
     "output_type": "stream",
     "text": [
      "Loading x:\\Git\\carteira-investimentos\\src\\data\\banco_inter\\extrato-posicao-renda-fixa.pdf\n",
      "(15, 16)\n"
     ]
    }
   ],
   "source": [
    "import pandas as pd\n",
    "pd.options.plotting.backend = \"plotly\"\n",
    "\n",
    "from b3.acoes import Acoes\n",
    "from b3.fiis import FIIs\n",
    "from tesouro_direto import TesouroDireto\n",
    "from banco_inter.renda_fixa import BancoInterRendaFixa\n",
    "\n",
    "import plotly.express as px"
   ]
  },
  {
   "cell_type": "code",
   "execution_count": 3,
   "metadata": {},
   "outputs": [
    {
     "name": "stdout",
     "output_type": "stream",
     "text": [
      "Loading x:\\Git\\carteira-investimentos\\src\\data\\b3_posicao\\posicao-2023-06-20.xlsx\n",
      "df.shape: (25, 14)\n",
      "(21, 19)\n"
     ]
    },
    {
     "name": "stderr",
     "output_type": "stream",
     "text": [
      "d:\\Users\\brunno\\miniconda3\\envs\\carteira-investimento\\lib\\site-packages\\openpyxl\\styles\\stylesheet.py:226: UserWarning: Workbook contains no default style, apply openpyxl's default\n",
      "  warn(\"Workbook contains no default style, apply openpyxl's default\")\n"
     ]
    }
   ],
   "source": [
    "df_acoes = Acoes().run()"
   ]
  },
  {
   "cell_type": "code",
   "execution_count": 4,
   "metadata": {},
   "outputs": [
    {
     "data": {
      "application/vnd.plotly.v1+json": {
       "config": {
        "plotlyServerURL": "https://plot.ly"
       },
       "data": [
        {
         "branchvalues": "total",
         "domain": {
          "x": [
           0,
           1
          ],
          "y": [
           0,
           1
          ]
         },
         "hovertemplate": "labels=%{label}<br>pct_vlr_acao=%{value}<br>parent=%{parent}<br>id=%{id}<extra></extra>",
         "ids": [
          "Financeiro/Intermediários Financeiros/Bancos/BBDC4",
          "Financeiro/Previdência e Seguros/Seguradoras/BBSE3",
          "Materiais Básicos/Mineração/Minerais Metálicos/BRAP3",
          "Utilidade Pública/Energia Elétrica/Energia Elétrica/CMIG4",
          "Utilidade Pública/Energia Elétrica/Energia Elétrica/CPFE3",
          "Utilidade Pública/Água e Saneamento/Água e Saneamento/CSMG3",
          "Utilidade Pública/Energia Elétrica/Energia Elétrica/EGIE3",
          "Petróleo, Gás e Biocombustíveis/Petróleo, Gás e Biocombustíveis/Exploração, Refino e Distribuição/ENAT3",
          "Bens Industriais/Transporte/Transporte Aéreo/GOLL4",
          "Saúde/Comércio e Distribuição/Medicamentos e Outros Produtos/HYPE3",
          "Financeiro/Intermediários Financeiros/Bancos/ITSA4",
          "Financeiro/Intermediários Financeiros/Bancos/ITUB4",
          "Materiais Básicos/Madeira e Papel/Papel e Celulose/KLBN4",
          "Consumo Cíclico/Comércio/Eletrodomésticos/MGLU3",
          "Comunicações/Telecomunicações/Telecomunicações/OIBR4",
          "Bens Industriais/Material de Transporte/Material Rodoviário/RAPT4",
          "Utilidade Pública/Energia Elétrica/Energia Elétrica/TAEE11",
          "Bens Industriais/Construção e Engenharia/Engenharia Consultiva/TCNO4",
          "Utilidade Pública/Energia Elétrica/Energia Elétrica/TRPL4",
          "Petróleo, Gás e Biocombustíveis/Petróleo, Gás e Biocombustíveis/Exploração, Refino e Distribuição/UGPA3",
          "Comunicações/Telecomunicações/Telecomunicações/VIVT3",
          "Financeiro/Intermediários Financeiros/Bancos",
          "Consumo Cíclico/Comércio/Eletrodomésticos",
          "Utilidade Pública/Energia Elétrica/Energia Elétrica",
          "Bens Industriais/Construção e Engenharia/Engenharia Consultiva",
          "Petróleo, Gás e Biocombustíveis/Petróleo, Gás e Biocombustíveis/Exploração, Refino e Distribuição",
          "Bens Industriais/Material de Transporte/Material Rodoviário",
          "Saúde/Comércio e Distribuição/Medicamentos e Outros Produtos",
          "Materiais Básicos/Mineração/Minerais Metálicos",
          "Materiais Básicos/Madeira e Papel/Papel e Celulose",
          "Financeiro/Previdência e Seguros/Seguradoras",
          "Comunicações/Telecomunicações/Telecomunicações",
          "Bens Industriais/Transporte/Transporte Aéreo",
          "Utilidade Pública/Água e Saneamento/Água e Saneamento",
          "Consumo Cíclico/Comércio",
          "Saúde/Comércio e Distribuição",
          "Bens Industriais/Construção e Engenharia",
          "Utilidade Pública/Energia Elétrica",
          "Financeiro/Intermediários Financeiros",
          "Materiais Básicos/Madeira e Papel",
          "Bens Industriais/Material de Transporte",
          "Materiais Básicos/Mineração",
          "Petróleo, Gás e Biocombustíveis/Petróleo, Gás e Biocombustíveis",
          "Financeiro/Previdência e Seguros",
          "Comunicações/Telecomunicações",
          "Bens Industriais/Transporte",
          "Utilidade Pública/Água e Saneamento",
          "Bens Industriais",
          "Comunicações",
          "Consumo Cíclico",
          "Financeiro",
          "Materiais Básicos",
          "Petróleo, Gás e Biocombustíveis",
          "Saúde",
          "Utilidade Pública"
         ],
         "labels": [
          "BBDC4",
          "BBSE3",
          "BRAP3",
          "CMIG4",
          "CPFE3",
          "CSMG3",
          "EGIE3",
          "ENAT3",
          "GOLL4",
          "HYPE3",
          "ITSA4",
          "ITUB4",
          "KLBN4",
          "MGLU3",
          "OIBR4",
          "RAPT4",
          "TAEE11",
          "TCNO4",
          "TRPL4",
          "UGPA3",
          "VIVT3",
          "Bancos",
          "Eletrodomésticos",
          "Energia Elétrica",
          "Engenharia Consultiva",
          "Exploração, Refino e Distribuição",
          "Material Rodoviário",
          "Medicamentos e Outros Produtos",
          "Minerais Metálicos",
          "Papel e Celulose",
          "Seguradoras",
          "Telecomunicações",
          "Transporte Aéreo",
          "Água e Saneamento",
          "Comércio",
          "Comércio e Distribuição",
          "Construção e Engenharia",
          "Energia Elétrica",
          "Intermediários Financeiros",
          "Madeira e Papel",
          "Material de Transporte",
          "Mineração",
          "Petróleo, Gás e Biocombustíveis",
          "Previdência e Seguros",
          "Telecomunicações",
          "Transporte",
          "Água e Saneamento",
          "Bens Industriais",
          "Comunicações",
          "Consumo Cíclico",
          "Financeiro",
          "Materiais Básicos",
          "Petróleo, Gás e Biocombustíveis",
          "Saúde",
          "Utilidade Pública"
         ],
         "name": "",
         "parents": [
          "Financeiro/Intermediários Financeiros/Bancos",
          "Financeiro/Previdência e Seguros/Seguradoras",
          "Materiais Básicos/Mineração/Minerais Metálicos",
          "Utilidade Pública/Energia Elétrica/Energia Elétrica",
          "Utilidade Pública/Energia Elétrica/Energia Elétrica",
          "Utilidade Pública/Água e Saneamento/Água e Saneamento",
          "Utilidade Pública/Energia Elétrica/Energia Elétrica",
          "Petróleo, Gás e Biocombustíveis/Petróleo, Gás e Biocombustíveis/Exploração, Refino e Distribuição",
          "Bens Industriais/Transporte/Transporte Aéreo",
          "Saúde/Comércio e Distribuição/Medicamentos e Outros Produtos",
          "Financeiro/Intermediários Financeiros/Bancos",
          "Financeiro/Intermediários Financeiros/Bancos",
          "Materiais Básicos/Madeira e Papel/Papel e Celulose",
          "Consumo Cíclico/Comércio/Eletrodomésticos",
          "Comunicações/Telecomunicações/Telecomunicações",
          "Bens Industriais/Material de Transporte/Material Rodoviário",
          "Utilidade Pública/Energia Elétrica/Energia Elétrica",
          "Bens Industriais/Construção e Engenharia/Engenharia Consultiva",
          "Utilidade Pública/Energia Elétrica/Energia Elétrica",
          "Petróleo, Gás e Biocombustíveis/Petróleo, Gás e Biocombustíveis/Exploração, Refino e Distribuição",
          "Comunicações/Telecomunicações/Telecomunicações",
          "Financeiro/Intermediários Financeiros",
          "Consumo Cíclico/Comércio",
          "Utilidade Pública/Energia Elétrica",
          "Bens Industriais/Construção e Engenharia",
          "Petróleo, Gás e Biocombustíveis/Petróleo, Gás e Biocombustíveis",
          "Bens Industriais/Material de Transporte",
          "Saúde/Comércio e Distribuição",
          "Materiais Básicos/Mineração",
          "Materiais Básicos/Madeira e Papel",
          "Financeiro/Previdência e Seguros",
          "Comunicações/Telecomunicações",
          "Bens Industriais/Transporte",
          "Utilidade Pública/Água e Saneamento",
          "Consumo Cíclico",
          "Saúde",
          "Bens Industriais",
          "Utilidade Pública",
          "Financeiro",
          "Materiais Básicos",
          "Bens Industriais",
          "Materiais Básicos",
          "Petróleo, Gás e Biocombustíveis",
          "Financeiro",
          "Comunicações",
          "Bens Industriais",
          "Utilidade Pública",
          "",
          "",
          "",
          "",
          "",
          "",
          "",
          ""
         ],
         "type": "treemap",
         "values": [
          9.98119068145752,
          6.282434463500977,
          4.190071105957031,
          4.202606201171875,
          6.385058879852295,
          6.831709384918213,
          7.018714904785156,
          4.62814474105835,
          1.1727052927017212,
          4.403830051422119,
          3.2360727787017822,
          7.650458812713623,
          4.577376842498779,
          1.7480731010437012,
          0.30876290798187256,
          1.9660543203353882,
          7.113125801086426,
          0.5607873797416687,
          3.76750111579895,
          8.995688438415527,
          4.979626655578613,
          20.867721557617188,
          1.7480731010437012,
          28.48700714111328,
          0.5607873797416687,
          13.623832702636719,
          1.9660543203353882,
          4.403830051422119,
          4.190071105957031,
          4.577376842498779,
          6.282434463500977,
          5.288389682769775,
          1.1727052927017212,
          6.831709384918213,
          1.7480731010437012,
          4.403830051422119,
          0.5607873797416687,
          28.48700714111328,
          20.867721557617188,
          4.577376842498779,
          1.9660543203353882,
          4.190071105957031,
          13.623832702636719,
          6.282434463500977,
          5.288389682769775,
          1.1727052927017212,
          6.831709384918213,
          3.699547052383423,
          5.288389682769775,
          1.7480731010437012,
          27.150157928466797,
          8.767448425292969,
          13.623832702636719,
          4.403830051422119,
          35.31871795654297
         ]
        }
       ],
       "layout": {
        "height": 800,
        "legend": {
         "tracegroupgap": 0
        },
        "margin": {
         "t": 60
        },
        "template": {
         "data": {
          "bar": [
           {
            "error_x": {
             "color": "#2a3f5f"
            },
            "error_y": {
             "color": "#2a3f5f"
            },
            "marker": {
             "line": {
              "color": "#E5ECF6",
              "width": 0.5
             },
             "pattern": {
              "fillmode": "overlay",
              "size": 10,
              "solidity": 0.2
             }
            },
            "type": "bar"
           }
          ],
          "barpolar": [
           {
            "marker": {
             "line": {
              "color": "#E5ECF6",
              "width": 0.5
             },
             "pattern": {
              "fillmode": "overlay",
              "size": 10,
              "solidity": 0.2
             }
            },
            "type": "barpolar"
           }
          ],
          "carpet": [
           {
            "aaxis": {
             "endlinecolor": "#2a3f5f",
             "gridcolor": "white",
             "linecolor": "white",
             "minorgridcolor": "white",
             "startlinecolor": "#2a3f5f"
            },
            "baxis": {
             "endlinecolor": "#2a3f5f",
             "gridcolor": "white",
             "linecolor": "white",
             "minorgridcolor": "white",
             "startlinecolor": "#2a3f5f"
            },
            "type": "carpet"
           }
          ],
          "choropleth": [
           {
            "colorbar": {
             "outlinewidth": 0,
             "ticks": ""
            },
            "type": "choropleth"
           }
          ],
          "contour": [
           {
            "colorbar": {
             "outlinewidth": 0,
             "ticks": ""
            },
            "colorscale": [
             [
              0,
              "#0d0887"
             ],
             [
              0.1111111111111111,
              "#46039f"
             ],
             [
              0.2222222222222222,
              "#7201a8"
             ],
             [
              0.3333333333333333,
              "#9c179e"
             ],
             [
              0.4444444444444444,
              "#bd3786"
             ],
             [
              0.5555555555555556,
              "#d8576b"
             ],
             [
              0.6666666666666666,
              "#ed7953"
             ],
             [
              0.7777777777777778,
              "#fb9f3a"
             ],
             [
              0.8888888888888888,
              "#fdca26"
             ],
             [
              1,
              "#f0f921"
             ]
            ],
            "type": "contour"
           }
          ],
          "contourcarpet": [
           {
            "colorbar": {
             "outlinewidth": 0,
             "ticks": ""
            },
            "type": "contourcarpet"
           }
          ],
          "heatmap": [
           {
            "colorbar": {
             "outlinewidth": 0,
             "ticks": ""
            },
            "colorscale": [
             [
              0,
              "#0d0887"
             ],
             [
              0.1111111111111111,
              "#46039f"
             ],
             [
              0.2222222222222222,
              "#7201a8"
             ],
             [
              0.3333333333333333,
              "#9c179e"
             ],
             [
              0.4444444444444444,
              "#bd3786"
             ],
             [
              0.5555555555555556,
              "#d8576b"
             ],
             [
              0.6666666666666666,
              "#ed7953"
             ],
             [
              0.7777777777777778,
              "#fb9f3a"
             ],
             [
              0.8888888888888888,
              "#fdca26"
             ],
             [
              1,
              "#f0f921"
             ]
            ],
            "type": "heatmap"
           }
          ],
          "heatmapgl": [
           {
            "colorbar": {
             "outlinewidth": 0,
             "ticks": ""
            },
            "colorscale": [
             [
              0,
              "#0d0887"
             ],
             [
              0.1111111111111111,
              "#46039f"
             ],
             [
              0.2222222222222222,
              "#7201a8"
             ],
             [
              0.3333333333333333,
              "#9c179e"
             ],
             [
              0.4444444444444444,
              "#bd3786"
             ],
             [
              0.5555555555555556,
              "#d8576b"
             ],
             [
              0.6666666666666666,
              "#ed7953"
             ],
             [
              0.7777777777777778,
              "#fb9f3a"
             ],
             [
              0.8888888888888888,
              "#fdca26"
             ],
             [
              1,
              "#f0f921"
             ]
            ],
            "type": "heatmapgl"
           }
          ],
          "histogram": [
           {
            "marker": {
             "pattern": {
              "fillmode": "overlay",
              "size": 10,
              "solidity": 0.2
             }
            },
            "type": "histogram"
           }
          ],
          "histogram2d": [
           {
            "colorbar": {
             "outlinewidth": 0,
             "ticks": ""
            },
            "colorscale": [
             [
              0,
              "#0d0887"
             ],
             [
              0.1111111111111111,
              "#46039f"
             ],
             [
              0.2222222222222222,
              "#7201a8"
             ],
             [
              0.3333333333333333,
              "#9c179e"
             ],
             [
              0.4444444444444444,
              "#bd3786"
             ],
             [
              0.5555555555555556,
              "#d8576b"
             ],
             [
              0.6666666666666666,
              "#ed7953"
             ],
             [
              0.7777777777777778,
              "#fb9f3a"
             ],
             [
              0.8888888888888888,
              "#fdca26"
             ],
             [
              1,
              "#f0f921"
             ]
            ],
            "type": "histogram2d"
           }
          ],
          "histogram2dcontour": [
           {
            "colorbar": {
             "outlinewidth": 0,
             "ticks": ""
            },
            "colorscale": [
             [
              0,
              "#0d0887"
             ],
             [
              0.1111111111111111,
              "#46039f"
             ],
             [
              0.2222222222222222,
              "#7201a8"
             ],
             [
              0.3333333333333333,
              "#9c179e"
             ],
             [
              0.4444444444444444,
              "#bd3786"
             ],
             [
              0.5555555555555556,
              "#d8576b"
             ],
             [
              0.6666666666666666,
              "#ed7953"
             ],
             [
              0.7777777777777778,
              "#fb9f3a"
             ],
             [
              0.8888888888888888,
              "#fdca26"
             ],
             [
              1,
              "#f0f921"
             ]
            ],
            "type": "histogram2dcontour"
           }
          ],
          "mesh3d": [
           {
            "colorbar": {
             "outlinewidth": 0,
             "ticks": ""
            },
            "type": "mesh3d"
           }
          ],
          "parcoords": [
           {
            "line": {
             "colorbar": {
              "outlinewidth": 0,
              "ticks": ""
             }
            },
            "type": "parcoords"
           }
          ],
          "pie": [
           {
            "automargin": true,
            "type": "pie"
           }
          ],
          "scatter": [
           {
            "fillpattern": {
             "fillmode": "overlay",
             "size": 10,
             "solidity": 0.2
            },
            "type": "scatter"
           }
          ],
          "scatter3d": [
           {
            "line": {
             "colorbar": {
              "outlinewidth": 0,
              "ticks": ""
             }
            },
            "marker": {
             "colorbar": {
              "outlinewidth": 0,
              "ticks": ""
             }
            },
            "type": "scatter3d"
           }
          ],
          "scattercarpet": [
           {
            "marker": {
             "colorbar": {
              "outlinewidth": 0,
              "ticks": ""
             }
            },
            "type": "scattercarpet"
           }
          ],
          "scattergeo": [
           {
            "marker": {
             "colorbar": {
              "outlinewidth": 0,
              "ticks": ""
             }
            },
            "type": "scattergeo"
           }
          ],
          "scattergl": [
           {
            "marker": {
             "colorbar": {
              "outlinewidth": 0,
              "ticks": ""
             }
            },
            "type": "scattergl"
           }
          ],
          "scattermapbox": [
           {
            "marker": {
             "colorbar": {
              "outlinewidth": 0,
              "ticks": ""
             }
            },
            "type": "scattermapbox"
           }
          ],
          "scatterpolar": [
           {
            "marker": {
             "colorbar": {
              "outlinewidth": 0,
              "ticks": ""
             }
            },
            "type": "scatterpolar"
           }
          ],
          "scatterpolargl": [
           {
            "marker": {
             "colorbar": {
              "outlinewidth": 0,
              "ticks": ""
             }
            },
            "type": "scatterpolargl"
           }
          ],
          "scatterternary": [
           {
            "marker": {
             "colorbar": {
              "outlinewidth": 0,
              "ticks": ""
             }
            },
            "type": "scatterternary"
           }
          ],
          "surface": [
           {
            "colorbar": {
             "outlinewidth": 0,
             "ticks": ""
            },
            "colorscale": [
             [
              0,
              "#0d0887"
             ],
             [
              0.1111111111111111,
              "#46039f"
             ],
             [
              0.2222222222222222,
              "#7201a8"
             ],
             [
              0.3333333333333333,
              "#9c179e"
             ],
             [
              0.4444444444444444,
              "#bd3786"
             ],
             [
              0.5555555555555556,
              "#d8576b"
             ],
             [
              0.6666666666666666,
              "#ed7953"
             ],
             [
              0.7777777777777778,
              "#fb9f3a"
             ],
             [
              0.8888888888888888,
              "#fdca26"
             ],
             [
              1,
              "#f0f921"
             ]
            ],
            "type": "surface"
           }
          ],
          "table": [
           {
            "cells": {
             "fill": {
              "color": "#EBF0F8"
             },
             "line": {
              "color": "white"
             }
            },
            "header": {
             "fill": {
              "color": "#C8D4E3"
             },
             "line": {
              "color": "white"
             }
            },
            "type": "table"
           }
          ]
         },
         "layout": {
          "annotationdefaults": {
           "arrowcolor": "#2a3f5f",
           "arrowhead": 0,
           "arrowwidth": 1
          },
          "autotypenumbers": "strict",
          "coloraxis": {
           "colorbar": {
            "outlinewidth": 0,
            "ticks": ""
           }
          },
          "colorscale": {
           "diverging": [
            [
             0,
             "#8e0152"
            ],
            [
             0.1,
             "#c51b7d"
            ],
            [
             0.2,
             "#de77ae"
            ],
            [
             0.3,
             "#f1b6da"
            ],
            [
             0.4,
             "#fde0ef"
            ],
            [
             0.5,
             "#f7f7f7"
            ],
            [
             0.6,
             "#e6f5d0"
            ],
            [
             0.7,
             "#b8e186"
            ],
            [
             0.8,
             "#7fbc41"
            ],
            [
             0.9,
             "#4d9221"
            ],
            [
             1,
             "#276419"
            ]
           ],
           "sequential": [
            [
             0,
             "#0d0887"
            ],
            [
             0.1111111111111111,
             "#46039f"
            ],
            [
             0.2222222222222222,
             "#7201a8"
            ],
            [
             0.3333333333333333,
             "#9c179e"
            ],
            [
             0.4444444444444444,
             "#bd3786"
            ],
            [
             0.5555555555555556,
             "#d8576b"
            ],
            [
             0.6666666666666666,
             "#ed7953"
            ],
            [
             0.7777777777777778,
             "#fb9f3a"
            ],
            [
             0.8888888888888888,
             "#fdca26"
            ],
            [
             1,
             "#f0f921"
            ]
           ],
           "sequentialminus": [
            [
             0,
             "#0d0887"
            ],
            [
             0.1111111111111111,
             "#46039f"
            ],
            [
             0.2222222222222222,
             "#7201a8"
            ],
            [
             0.3333333333333333,
             "#9c179e"
            ],
            [
             0.4444444444444444,
             "#bd3786"
            ],
            [
             0.5555555555555556,
             "#d8576b"
            ],
            [
             0.6666666666666666,
             "#ed7953"
            ],
            [
             0.7777777777777778,
             "#fb9f3a"
            ],
            [
             0.8888888888888888,
             "#fdca26"
            ],
            [
             1,
             "#f0f921"
            ]
           ]
          },
          "colorway": [
           "#636efa",
           "#EF553B",
           "#00cc96",
           "#ab63fa",
           "#FFA15A",
           "#19d3f3",
           "#FF6692",
           "#B6E880",
           "#FF97FF",
           "#FECB52"
          ],
          "font": {
           "color": "#2a3f5f"
          },
          "geo": {
           "bgcolor": "white",
           "lakecolor": "white",
           "landcolor": "#E5ECF6",
           "showlakes": true,
           "showland": true,
           "subunitcolor": "white"
          },
          "hoverlabel": {
           "align": "left"
          },
          "hovermode": "closest",
          "mapbox": {
           "style": "light"
          },
          "paper_bgcolor": "white",
          "plot_bgcolor": "#E5ECF6",
          "polar": {
           "angularaxis": {
            "gridcolor": "white",
            "linecolor": "white",
            "ticks": ""
           },
           "bgcolor": "#E5ECF6",
           "radialaxis": {
            "gridcolor": "white",
            "linecolor": "white",
            "ticks": ""
           }
          },
          "scene": {
           "xaxis": {
            "backgroundcolor": "#E5ECF6",
            "gridcolor": "white",
            "gridwidth": 2,
            "linecolor": "white",
            "showbackground": true,
            "ticks": "",
            "zerolinecolor": "white"
           },
           "yaxis": {
            "backgroundcolor": "#E5ECF6",
            "gridcolor": "white",
            "gridwidth": 2,
            "linecolor": "white",
            "showbackground": true,
            "ticks": "",
            "zerolinecolor": "white"
           },
           "zaxis": {
            "backgroundcolor": "#E5ECF6",
            "gridcolor": "white",
            "gridwidth": 2,
            "linecolor": "white",
            "showbackground": true,
            "ticks": "",
            "zerolinecolor": "white"
           }
          },
          "shapedefaults": {
           "line": {
            "color": "#2a3f5f"
           }
          },
          "ternary": {
           "aaxis": {
            "gridcolor": "white",
            "linecolor": "white",
            "ticks": ""
           },
           "baxis": {
            "gridcolor": "white",
            "linecolor": "white",
            "ticks": ""
           },
           "bgcolor": "#E5ECF6",
           "caxis": {
            "gridcolor": "white",
            "linecolor": "white",
            "ticks": ""
           }
          },
          "title": {
           "x": 0.05
          },
          "xaxis": {
           "automargin": true,
           "gridcolor": "white",
           "linecolor": "white",
           "ticks": "",
           "title": {
            "standoff": 15
           },
           "zerolinecolor": "white",
           "zerolinewidth": 2
          },
          "yaxis": {
           "automargin": true,
           "gridcolor": "white",
           "linecolor": "white",
           "ticks": "",
           "title": {
            "standoff": 15
           },
           "zerolinecolor": "white",
           "zerolinewidth": 2
          }
         }
        },
        "width": 1000
       }
      }
     },
     "metadata": {},
     "output_type": "display_data"
    }
   ],
   "source": [
    "px.treemap(\n",
    "    df_acoes[['setor', 'subsetor', 'segmento', 'cod_acao', 'pct_vlr_acao']], \n",
    "    path=[\"setor\", \"subsetor\", \"segmento\", \"cod_acao\"], \n",
    "    values=\"pct_vlr_acao\",\n",
    "    width=1000, height=800\n",
    "    )"
   ]
  },
  {
   "attachments": {},
   "cell_type": "markdown",
   "metadata": {},
   "source": [
    "---"
   ]
  },
  {
   "cell_type": "code",
   "execution_count": 5,
   "metadata": {},
   "outputs": [
    {
     "name": "stdout",
     "output_type": "stream",
     "text": [
      "Loading x:\\Git\\carteira-investimentos\\src\\data\\b3_posicao\\posicao-2023-06-20.xlsx\n",
      "df.shape: (9, 14)\n",
      "(5, 14)\n"
     ]
    },
    {
     "name": "stderr",
     "output_type": "stream",
     "text": [
      "d:\\Users\\brunno\\miniconda3\\envs\\carteira-investimento\\lib\\site-packages\\openpyxl\\styles\\stylesheet.py:226: UserWarning:\n",
      "\n",
      "Workbook contains no default style, apply openpyxl's default\n",
      "\n"
     ]
    }
   ],
   "source": [
    "df_fiis = FIIs().run()"
   ]
  },
  {
   "cell_type": "code",
   "execution_count": 6,
   "metadata": {},
   "outputs": [
    {
     "data": {
      "application/vnd.plotly.v1+json": {
       "config": {
        "plotlyServerURL": "https://plot.ly"
       },
       "data": [
        {
         "branchvalues": "total",
         "domain": {
          "x": [
           0,
           1
          ],
          "y": [
           0,
           1
          ]
         },
         "hovertemplate": "labels=%{label}<br>pct_vlr_fii=%{value}<br>parent=%{parent}<br>id=%{id}<extra></extra>",
         "ids": [
          "Tijolo/Logística/BTLG11",
          "Papel/Títulos e Valores Mobiliários/KNCA11",
          "Tijolo/Híbrido/KNRI11",
          "Papel/Títulos e Valores Mobiliários/OUJP11",
          "Tijolo/Shoppings/XPML11",
          "Tijolo/Híbrido",
          "Tijolo/Logística",
          "Tijolo/Shoppings",
          "Papel/Títulos e Valores Mobiliários",
          "Papel",
          "Tijolo"
         ],
         "labels": [
          "BTLG11",
          "KNCA11",
          "KNRI11",
          "OUJP11",
          "XPML11",
          "Híbrido",
          "Logística",
          "Shoppings",
          "Títulos e Valores Mobiliários",
          "Papel",
          "Tijolo"
         ],
         "name": "",
         "parents": [
          "Tijolo/Logística",
          "Papel/Títulos e Valores Mobiliários",
          "Tijolo/Híbrido",
          "Papel/Títulos e Valores Mobiliários",
          "Tijolo/Shoppings",
          "Tijolo",
          "Tijolo",
          "Tijolo",
          "Papel",
          "",
          ""
         ],
         "type": "treemap",
         "values": [
          16.549665451049805,
          18.88562774658203,
          21.544841766357422,
          21.060781478881836,
          21.947996139526367,
          21.544841766357422,
          16.549665451049805,
          21.947996139526367,
          39.9464111328125,
          39.9464111328125,
          60.042503356933594
         ]
        }
       ],
       "layout": {
        "height": 800,
        "legend": {
         "tracegroupgap": 0
        },
        "margin": {
         "t": 60
        },
        "template": {
         "data": {
          "bar": [
           {
            "error_x": {
             "color": "#2a3f5f"
            },
            "error_y": {
             "color": "#2a3f5f"
            },
            "marker": {
             "line": {
              "color": "#E5ECF6",
              "width": 0.5
             },
             "pattern": {
              "fillmode": "overlay",
              "size": 10,
              "solidity": 0.2
             }
            },
            "type": "bar"
           }
          ],
          "barpolar": [
           {
            "marker": {
             "line": {
              "color": "#E5ECF6",
              "width": 0.5
             },
             "pattern": {
              "fillmode": "overlay",
              "size": 10,
              "solidity": 0.2
             }
            },
            "type": "barpolar"
           }
          ],
          "carpet": [
           {
            "aaxis": {
             "endlinecolor": "#2a3f5f",
             "gridcolor": "white",
             "linecolor": "white",
             "minorgridcolor": "white",
             "startlinecolor": "#2a3f5f"
            },
            "baxis": {
             "endlinecolor": "#2a3f5f",
             "gridcolor": "white",
             "linecolor": "white",
             "minorgridcolor": "white",
             "startlinecolor": "#2a3f5f"
            },
            "type": "carpet"
           }
          ],
          "choropleth": [
           {
            "colorbar": {
             "outlinewidth": 0,
             "ticks": ""
            },
            "type": "choropleth"
           }
          ],
          "contour": [
           {
            "colorbar": {
             "outlinewidth": 0,
             "ticks": ""
            },
            "colorscale": [
             [
              0,
              "#0d0887"
             ],
             [
              0.1111111111111111,
              "#46039f"
             ],
             [
              0.2222222222222222,
              "#7201a8"
             ],
             [
              0.3333333333333333,
              "#9c179e"
             ],
             [
              0.4444444444444444,
              "#bd3786"
             ],
             [
              0.5555555555555556,
              "#d8576b"
             ],
             [
              0.6666666666666666,
              "#ed7953"
             ],
             [
              0.7777777777777778,
              "#fb9f3a"
             ],
             [
              0.8888888888888888,
              "#fdca26"
             ],
             [
              1,
              "#f0f921"
             ]
            ],
            "type": "contour"
           }
          ],
          "contourcarpet": [
           {
            "colorbar": {
             "outlinewidth": 0,
             "ticks": ""
            },
            "type": "contourcarpet"
           }
          ],
          "heatmap": [
           {
            "colorbar": {
             "outlinewidth": 0,
             "ticks": ""
            },
            "colorscale": [
             [
              0,
              "#0d0887"
             ],
             [
              0.1111111111111111,
              "#46039f"
             ],
             [
              0.2222222222222222,
              "#7201a8"
             ],
             [
              0.3333333333333333,
              "#9c179e"
             ],
             [
              0.4444444444444444,
              "#bd3786"
             ],
             [
              0.5555555555555556,
              "#d8576b"
             ],
             [
              0.6666666666666666,
              "#ed7953"
             ],
             [
              0.7777777777777778,
              "#fb9f3a"
             ],
             [
              0.8888888888888888,
              "#fdca26"
             ],
             [
              1,
              "#f0f921"
             ]
            ],
            "type": "heatmap"
           }
          ],
          "heatmapgl": [
           {
            "colorbar": {
             "outlinewidth": 0,
             "ticks": ""
            },
            "colorscale": [
             [
              0,
              "#0d0887"
             ],
             [
              0.1111111111111111,
              "#46039f"
             ],
             [
              0.2222222222222222,
              "#7201a8"
             ],
             [
              0.3333333333333333,
              "#9c179e"
             ],
             [
              0.4444444444444444,
              "#bd3786"
             ],
             [
              0.5555555555555556,
              "#d8576b"
             ],
             [
              0.6666666666666666,
              "#ed7953"
             ],
             [
              0.7777777777777778,
              "#fb9f3a"
             ],
             [
              0.8888888888888888,
              "#fdca26"
             ],
             [
              1,
              "#f0f921"
             ]
            ],
            "type": "heatmapgl"
           }
          ],
          "histogram": [
           {
            "marker": {
             "pattern": {
              "fillmode": "overlay",
              "size": 10,
              "solidity": 0.2
             }
            },
            "type": "histogram"
           }
          ],
          "histogram2d": [
           {
            "colorbar": {
             "outlinewidth": 0,
             "ticks": ""
            },
            "colorscale": [
             [
              0,
              "#0d0887"
             ],
             [
              0.1111111111111111,
              "#46039f"
             ],
             [
              0.2222222222222222,
              "#7201a8"
             ],
             [
              0.3333333333333333,
              "#9c179e"
             ],
             [
              0.4444444444444444,
              "#bd3786"
             ],
             [
              0.5555555555555556,
              "#d8576b"
             ],
             [
              0.6666666666666666,
              "#ed7953"
             ],
             [
              0.7777777777777778,
              "#fb9f3a"
             ],
             [
              0.8888888888888888,
              "#fdca26"
             ],
             [
              1,
              "#f0f921"
             ]
            ],
            "type": "histogram2d"
           }
          ],
          "histogram2dcontour": [
           {
            "colorbar": {
             "outlinewidth": 0,
             "ticks": ""
            },
            "colorscale": [
             [
              0,
              "#0d0887"
             ],
             [
              0.1111111111111111,
              "#46039f"
             ],
             [
              0.2222222222222222,
              "#7201a8"
             ],
             [
              0.3333333333333333,
              "#9c179e"
             ],
             [
              0.4444444444444444,
              "#bd3786"
             ],
             [
              0.5555555555555556,
              "#d8576b"
             ],
             [
              0.6666666666666666,
              "#ed7953"
             ],
             [
              0.7777777777777778,
              "#fb9f3a"
             ],
             [
              0.8888888888888888,
              "#fdca26"
             ],
             [
              1,
              "#f0f921"
             ]
            ],
            "type": "histogram2dcontour"
           }
          ],
          "mesh3d": [
           {
            "colorbar": {
             "outlinewidth": 0,
             "ticks": ""
            },
            "type": "mesh3d"
           }
          ],
          "parcoords": [
           {
            "line": {
             "colorbar": {
              "outlinewidth": 0,
              "ticks": ""
             }
            },
            "type": "parcoords"
           }
          ],
          "pie": [
           {
            "automargin": true,
            "type": "pie"
           }
          ],
          "scatter": [
           {
            "fillpattern": {
             "fillmode": "overlay",
             "size": 10,
             "solidity": 0.2
            },
            "type": "scatter"
           }
          ],
          "scatter3d": [
           {
            "line": {
             "colorbar": {
              "outlinewidth": 0,
              "ticks": ""
             }
            },
            "marker": {
             "colorbar": {
              "outlinewidth": 0,
              "ticks": ""
             }
            },
            "type": "scatter3d"
           }
          ],
          "scattercarpet": [
           {
            "marker": {
             "colorbar": {
              "outlinewidth": 0,
              "ticks": ""
             }
            },
            "type": "scattercarpet"
           }
          ],
          "scattergeo": [
           {
            "marker": {
             "colorbar": {
              "outlinewidth": 0,
              "ticks": ""
             }
            },
            "type": "scattergeo"
           }
          ],
          "scattergl": [
           {
            "marker": {
             "colorbar": {
              "outlinewidth": 0,
              "ticks": ""
             }
            },
            "type": "scattergl"
           }
          ],
          "scattermapbox": [
           {
            "marker": {
             "colorbar": {
              "outlinewidth": 0,
              "ticks": ""
             }
            },
            "type": "scattermapbox"
           }
          ],
          "scatterpolar": [
           {
            "marker": {
             "colorbar": {
              "outlinewidth": 0,
              "ticks": ""
             }
            },
            "type": "scatterpolar"
           }
          ],
          "scatterpolargl": [
           {
            "marker": {
             "colorbar": {
              "outlinewidth": 0,
              "ticks": ""
             }
            },
            "type": "scatterpolargl"
           }
          ],
          "scatterternary": [
           {
            "marker": {
             "colorbar": {
              "outlinewidth": 0,
              "ticks": ""
             }
            },
            "type": "scatterternary"
           }
          ],
          "surface": [
           {
            "colorbar": {
             "outlinewidth": 0,
             "ticks": ""
            },
            "colorscale": [
             [
              0,
              "#0d0887"
             ],
             [
              0.1111111111111111,
              "#46039f"
             ],
             [
              0.2222222222222222,
              "#7201a8"
             ],
             [
              0.3333333333333333,
              "#9c179e"
             ],
             [
              0.4444444444444444,
              "#bd3786"
             ],
             [
              0.5555555555555556,
              "#d8576b"
             ],
             [
              0.6666666666666666,
              "#ed7953"
             ],
             [
              0.7777777777777778,
              "#fb9f3a"
             ],
             [
              0.8888888888888888,
              "#fdca26"
             ],
             [
              1,
              "#f0f921"
             ]
            ],
            "type": "surface"
           }
          ],
          "table": [
           {
            "cells": {
             "fill": {
              "color": "#EBF0F8"
             },
             "line": {
              "color": "white"
             }
            },
            "header": {
             "fill": {
              "color": "#C8D4E3"
             },
             "line": {
              "color": "white"
             }
            },
            "type": "table"
           }
          ]
         },
         "layout": {
          "annotationdefaults": {
           "arrowcolor": "#2a3f5f",
           "arrowhead": 0,
           "arrowwidth": 1
          },
          "autotypenumbers": "strict",
          "coloraxis": {
           "colorbar": {
            "outlinewidth": 0,
            "ticks": ""
           }
          },
          "colorscale": {
           "diverging": [
            [
             0,
             "#8e0152"
            ],
            [
             0.1,
             "#c51b7d"
            ],
            [
             0.2,
             "#de77ae"
            ],
            [
             0.3,
             "#f1b6da"
            ],
            [
             0.4,
             "#fde0ef"
            ],
            [
             0.5,
             "#f7f7f7"
            ],
            [
             0.6,
             "#e6f5d0"
            ],
            [
             0.7,
             "#b8e186"
            ],
            [
             0.8,
             "#7fbc41"
            ],
            [
             0.9,
             "#4d9221"
            ],
            [
             1,
             "#276419"
            ]
           ],
           "sequential": [
            [
             0,
             "#0d0887"
            ],
            [
             0.1111111111111111,
             "#46039f"
            ],
            [
             0.2222222222222222,
             "#7201a8"
            ],
            [
             0.3333333333333333,
             "#9c179e"
            ],
            [
             0.4444444444444444,
             "#bd3786"
            ],
            [
             0.5555555555555556,
             "#d8576b"
            ],
            [
             0.6666666666666666,
             "#ed7953"
            ],
            [
             0.7777777777777778,
             "#fb9f3a"
            ],
            [
             0.8888888888888888,
             "#fdca26"
            ],
            [
             1,
             "#f0f921"
            ]
           ],
           "sequentialminus": [
            [
             0,
             "#0d0887"
            ],
            [
             0.1111111111111111,
             "#46039f"
            ],
            [
             0.2222222222222222,
             "#7201a8"
            ],
            [
             0.3333333333333333,
             "#9c179e"
            ],
            [
             0.4444444444444444,
             "#bd3786"
            ],
            [
             0.5555555555555556,
             "#d8576b"
            ],
            [
             0.6666666666666666,
             "#ed7953"
            ],
            [
             0.7777777777777778,
             "#fb9f3a"
            ],
            [
             0.8888888888888888,
             "#fdca26"
            ],
            [
             1,
             "#f0f921"
            ]
           ]
          },
          "colorway": [
           "#636efa",
           "#EF553B",
           "#00cc96",
           "#ab63fa",
           "#FFA15A",
           "#19d3f3",
           "#FF6692",
           "#B6E880",
           "#FF97FF",
           "#FECB52"
          ],
          "font": {
           "color": "#2a3f5f"
          },
          "geo": {
           "bgcolor": "white",
           "lakecolor": "white",
           "landcolor": "#E5ECF6",
           "showlakes": true,
           "showland": true,
           "subunitcolor": "white"
          },
          "hoverlabel": {
           "align": "left"
          },
          "hovermode": "closest",
          "mapbox": {
           "style": "light"
          },
          "paper_bgcolor": "white",
          "plot_bgcolor": "#E5ECF6",
          "polar": {
           "angularaxis": {
            "gridcolor": "white",
            "linecolor": "white",
            "ticks": ""
           },
           "bgcolor": "#E5ECF6",
           "radialaxis": {
            "gridcolor": "white",
            "linecolor": "white",
            "ticks": ""
           }
          },
          "scene": {
           "xaxis": {
            "backgroundcolor": "#E5ECF6",
            "gridcolor": "white",
            "gridwidth": 2,
            "linecolor": "white",
            "showbackground": true,
            "ticks": "",
            "zerolinecolor": "white"
           },
           "yaxis": {
            "backgroundcolor": "#E5ECF6",
            "gridcolor": "white",
            "gridwidth": 2,
            "linecolor": "white",
            "showbackground": true,
            "ticks": "",
            "zerolinecolor": "white"
           },
           "zaxis": {
            "backgroundcolor": "#E5ECF6",
            "gridcolor": "white",
            "gridwidth": 2,
            "linecolor": "white",
            "showbackground": true,
            "ticks": "",
            "zerolinecolor": "white"
           }
          },
          "shapedefaults": {
           "line": {
            "color": "#2a3f5f"
           }
          },
          "ternary": {
           "aaxis": {
            "gridcolor": "white",
            "linecolor": "white",
            "ticks": ""
           },
           "baxis": {
            "gridcolor": "white",
            "linecolor": "white",
            "ticks": ""
           },
           "bgcolor": "#E5ECF6",
           "caxis": {
            "gridcolor": "white",
            "linecolor": "white",
            "ticks": ""
           }
          },
          "title": {
           "x": 0.05
          },
          "xaxis": {
           "automargin": true,
           "gridcolor": "white",
           "linecolor": "white",
           "ticks": "",
           "title": {
            "standoff": 15
           },
           "zerolinecolor": "white",
           "zerolinewidth": 2
          },
          "yaxis": {
           "automargin": true,
           "gridcolor": "white",
           "linecolor": "white",
           "ticks": "",
           "title": {
            "standoff": 15
           },
           "zerolinecolor": "white",
           "zerolinewidth": 2
          }
         }
        },
        "width": 1000
       }
      }
     },
     "metadata": {},
     "output_type": "display_data"
    }
   ],
   "source": [
    "px.treemap(\n",
    "    df_fiis[['setor', 'subsetor', 'cod_acao', 'pct_vlr_fii']], \n",
    "    path=['setor', 'subsetor', 'cod_acao'], \n",
    "    values=\"pct_vlr_fii\",\n",
    "    width=1000, height=800\n",
    "    )"
   ]
  },
  {
   "attachments": {},
   "cell_type": "markdown",
   "metadata": {},
   "source": [
    "---"
   ]
  },
  {
   "cell_type": "code",
   "execution_count": 7,
   "metadata": {},
   "outputs": [],
   "source": [
    "df_renda_variavel = pd.concat(\n",
    "    [\n",
    "        df_acoes[\n",
    "            ['des_tipo_investimento', 'setor', 'subsetor', 'cod_acao', 'vlr_total']],\n",
    "        df_fiis[\n",
    "            ['des_tipo_investimento', 'setor', 'subsetor', 'cod_acao', 'vlr_total']]\n",
    "    ]\n",
    ")\n",
    "\n",
    "df_renda_variavel[\"vlr_total_carteira\"] = df_renda_variavel.loc[:, \"vlr_total\"].sum()\n",
    "df_renda_variavel[\"pct_vlr_acao\"] = (\n",
    "    df_renda_variavel[\"vlr_total\"] / df_renda_variavel[\"vlr_total_carteira\"]\n",
    ") * 100\n"
   ]
  },
  {
   "cell_type": "code",
   "execution_count": 8,
   "metadata": {},
   "outputs": [
    {
     "data": {
      "application/vnd.plotly.v1+json": {
       "config": {
        "plotlyServerURL": "https://plot.ly"
       },
       "data": [
        {
         "branchvalues": "total",
         "domain": {
          "x": [
           0,
           1
          ],
          "y": [
           0,
           1
          ]
         },
         "hovertemplate": "labels=%{label}<br>pct_vlr_acao=%{value}<br>parent=%{parent}<br>id=%{id}<extra></extra>",
         "ids": [
          "Ações/Financeiro/Intermediários Financeiros/BBDC4",
          "Ações/Financeiro/Previdência e Seguros/BBSE3",
          "Ações/Materiais Básicos/Mineração/BRAP3",
          "FIIs/Tijolo/Logística/BTLG11",
          "Ações/Utilidade Pública/Energia Elétrica/CMIG4",
          "Ações/Utilidade Pública/Energia Elétrica/CPFE3",
          "Ações/Utilidade Pública/Água e Saneamento/CSMG3",
          "Ações/Utilidade Pública/Energia Elétrica/EGIE3",
          "Ações/Petróleo, Gás e Biocombustíveis/Petróleo, Gás e Biocombustíveis/ENAT3",
          "Ações/Bens Industriais/Transporte/GOLL4",
          "Ações/Saúde/Comércio e Distribuição/HYPE3",
          "Ações/Financeiro/Intermediários Financeiros/ITSA4",
          "Ações/Financeiro/Intermediários Financeiros/ITUB4",
          "Ações/Materiais Básicos/Madeira e Papel/KLBN4",
          "FIIs/Papel/Títulos e Valores Mobiliários/KNCA11",
          "FIIs/Tijolo/Híbrido/KNRI11",
          "Ações/Consumo Cíclico/Comércio/MGLU3",
          "Ações/Comunicações/Telecomunicações/OIBR4",
          "FIIs/Papel/Títulos e Valores Mobiliários/OUJP11",
          "Ações/Bens Industriais/Material de Transporte/RAPT4",
          "Ações/Utilidade Pública/Energia Elétrica/TAEE11",
          "Ações/Bens Industriais/Construção e Engenharia/TCNO4",
          "Ações/Utilidade Pública/Energia Elétrica/TRPL4",
          "Ações/Petróleo, Gás e Biocombustíveis/Petróleo, Gás e Biocombustíveis/UGPA3",
          "Ações/Comunicações/Telecomunicações/VIVT3",
          "FIIs/Tijolo/Shoppings/XPML11",
          "Ações/Consumo Cíclico/Comércio",
          "Ações/Saúde/Comércio e Distribuição",
          "Ações/Bens Industriais/Construção e Engenharia",
          "Ações/Utilidade Pública/Energia Elétrica",
          "FIIs/Tijolo/Híbrido",
          "Ações/Financeiro/Intermediários Financeiros",
          "FIIs/Tijolo/Logística",
          "Ações/Materiais Básicos/Madeira e Papel",
          "Ações/Bens Industriais/Material de Transporte",
          "Ações/Materiais Básicos/Mineração",
          "Ações/Petróleo, Gás e Biocombustíveis/Petróleo, Gás e Biocombustíveis",
          "Ações/Financeiro/Previdência e Seguros",
          "FIIs/Tijolo/Shoppings",
          "Ações/Comunicações/Telecomunicações",
          "Ações/Bens Industriais/Transporte",
          "FIIs/Papel/Títulos e Valores Mobiliários",
          "Ações/Utilidade Pública/Água e Saneamento",
          "Ações/Bens Industriais",
          "Ações/Comunicações",
          "Ações/Consumo Cíclico",
          "Ações/Financeiro",
          "Ações/Materiais Básicos",
          "FIIs/Papel",
          "Ações/Petróleo, Gás e Biocombustíveis",
          "Ações/Saúde",
          "FIIs/Tijolo",
          "Ações/Utilidade Pública",
          "Ações",
          "FIIs"
         ],
         "labels": [
          "BBDC4",
          "BBSE3",
          "BRAP3",
          "BTLG11",
          "CMIG4",
          "CPFE3",
          "CSMG3",
          "EGIE3",
          "ENAT3",
          "GOLL4",
          "HYPE3",
          "ITSA4",
          "ITUB4",
          "KLBN4",
          "KNCA11",
          "KNRI11",
          "MGLU3",
          "OIBR4",
          "OUJP11",
          "RAPT4",
          "TAEE11",
          "TCNO4",
          "TRPL4",
          "UGPA3",
          "VIVT3",
          "XPML11",
          "Comércio",
          "Comércio e Distribuição",
          "Construção e Engenharia",
          "Energia Elétrica",
          "Híbrido",
          "Intermediários Financeiros",
          "Logística",
          "Madeira e Papel",
          "Material de Transporte",
          "Mineração",
          "Petróleo, Gás e Biocombustíveis",
          "Previdência e Seguros",
          "Shoppings",
          "Telecomunicações",
          "Transporte",
          "Títulos e Valores Mobiliários",
          "Água e Saneamento",
          "Bens Industriais",
          "Comunicações",
          "Consumo Cíclico",
          "Financeiro",
          "Materiais Básicos",
          "Papel",
          "Petróleo, Gás e Biocombustíveis",
          "Saúde",
          "Tijolo",
          "Utilidade Pública",
          "Ações",
          "FIIs"
         ],
         "name": "",
         "parents": [
          "Ações/Financeiro/Intermediários Financeiros",
          "Ações/Financeiro/Previdência e Seguros",
          "Ações/Materiais Básicos/Mineração",
          "FIIs/Tijolo/Logística",
          "Ações/Utilidade Pública/Energia Elétrica",
          "Ações/Utilidade Pública/Energia Elétrica",
          "Ações/Utilidade Pública/Água e Saneamento",
          "Ações/Utilidade Pública/Energia Elétrica",
          "Ações/Petróleo, Gás e Biocombustíveis/Petróleo, Gás e Biocombustíveis",
          "Ações/Bens Industriais/Transporte",
          "Ações/Saúde/Comércio e Distribuição",
          "Ações/Financeiro/Intermediários Financeiros",
          "Ações/Financeiro/Intermediários Financeiros",
          "Ações/Materiais Básicos/Madeira e Papel",
          "FIIs/Papel/Títulos e Valores Mobiliários",
          "FIIs/Tijolo/Híbrido",
          "Ações/Consumo Cíclico/Comércio",
          "Ações/Comunicações/Telecomunicações",
          "FIIs/Papel/Títulos e Valores Mobiliários",
          "Ações/Bens Industriais/Material de Transporte",
          "Ações/Utilidade Pública/Energia Elétrica",
          "Ações/Bens Industriais/Construção e Engenharia",
          "Ações/Utilidade Pública/Energia Elétrica",
          "Ações/Petróleo, Gás e Biocombustíveis/Petróleo, Gás e Biocombustíveis",
          "Ações/Comunicações/Telecomunicações",
          "FIIs/Tijolo/Shoppings",
          "Ações/Consumo Cíclico",
          "Ações/Saúde",
          "Ações/Bens Industriais",
          "Ações/Utilidade Pública",
          "FIIs/Tijolo",
          "Ações/Financeiro",
          "FIIs/Tijolo",
          "Ações/Materiais Básicos",
          "Ações/Bens Industriais",
          "Ações/Materiais Básicos",
          "Ações/Petróleo, Gás e Biocombustíveis",
          "Ações/Financeiro",
          "FIIs/Tijolo",
          "Ações/Comunicações",
          "Ações/Bens Industriais",
          "FIIs/Papel",
          "Ações/Utilidade Pública",
          "Ações",
          "Ações",
          "Ações",
          "Ações",
          "Ações",
          "FIIs",
          "Ações",
          "Ações",
          "FIIs",
          "Ações",
          "",
          ""
         ],
         "type": "treemap",
         "values": [
          6.143892765045166,
          3.8671348094940186,
          2.579186201095581,
          6.363271713256836,
          2.586902379989624,
          3.930304527282715,
          4.205239295959473,
          4.320350170135498,
          2.848841428756714,
          0.7218554019927979,
          2.7107651233673096,
          1.9919553995132446,
          4.7092180252075195,
          2.817591428756714,
          7.261439323425293,
          8.283894538879395,
          1.076021432876587,
          0.1900581270456314,
          8.097776412963867,
          1.210199236869812,
          4.378464221954346,
          0.3451910614967346,
          2.3190746307373047,
          5.537270545959473,
          3.065195083618164,
          8.438905715942383,
          1.076021432876587,
          2.7107651233673096,
          0.3451910614967346,
          17.53509521484375,
          8.283894538879395,
          12.84506607055664,
          6.363271713256836,
          2.817591428756714,
          1.210199236869812,
          2.579186201095581,
          8.386112213134766,
          3.8671348094940186,
          8.438905715942383,
          3.255253314971924,
          0.7218554019927979,
          15.35921573638916,
          4.205239295959473,
          2.2772457599639893,
          3.255253314971924,
          1.076021432876587,
          16.712200164794922,
          5.396777629852295,
          15.35921573638916,
          8.386112213134766,
          2.7107651233673096,
          23.086071014404297,
          21.74033546447754,
          61.554710388183594,
          38.445289611816406
         ]
        }
       ],
       "layout": {
        "height": 800,
        "legend": {
         "tracegroupgap": 0
        },
        "margin": {
         "t": 60
        },
        "template": {
         "data": {
          "bar": [
           {
            "error_x": {
             "color": "#2a3f5f"
            },
            "error_y": {
             "color": "#2a3f5f"
            },
            "marker": {
             "line": {
              "color": "#E5ECF6",
              "width": 0.5
             },
             "pattern": {
              "fillmode": "overlay",
              "size": 10,
              "solidity": 0.2
             }
            },
            "type": "bar"
           }
          ],
          "barpolar": [
           {
            "marker": {
             "line": {
              "color": "#E5ECF6",
              "width": 0.5
             },
             "pattern": {
              "fillmode": "overlay",
              "size": 10,
              "solidity": 0.2
             }
            },
            "type": "barpolar"
           }
          ],
          "carpet": [
           {
            "aaxis": {
             "endlinecolor": "#2a3f5f",
             "gridcolor": "white",
             "linecolor": "white",
             "minorgridcolor": "white",
             "startlinecolor": "#2a3f5f"
            },
            "baxis": {
             "endlinecolor": "#2a3f5f",
             "gridcolor": "white",
             "linecolor": "white",
             "minorgridcolor": "white",
             "startlinecolor": "#2a3f5f"
            },
            "type": "carpet"
           }
          ],
          "choropleth": [
           {
            "colorbar": {
             "outlinewidth": 0,
             "ticks": ""
            },
            "type": "choropleth"
           }
          ],
          "contour": [
           {
            "colorbar": {
             "outlinewidth": 0,
             "ticks": ""
            },
            "colorscale": [
             [
              0,
              "#0d0887"
             ],
             [
              0.1111111111111111,
              "#46039f"
             ],
             [
              0.2222222222222222,
              "#7201a8"
             ],
             [
              0.3333333333333333,
              "#9c179e"
             ],
             [
              0.4444444444444444,
              "#bd3786"
             ],
             [
              0.5555555555555556,
              "#d8576b"
             ],
             [
              0.6666666666666666,
              "#ed7953"
             ],
             [
              0.7777777777777778,
              "#fb9f3a"
             ],
             [
              0.8888888888888888,
              "#fdca26"
             ],
             [
              1,
              "#f0f921"
             ]
            ],
            "type": "contour"
           }
          ],
          "contourcarpet": [
           {
            "colorbar": {
             "outlinewidth": 0,
             "ticks": ""
            },
            "type": "contourcarpet"
           }
          ],
          "heatmap": [
           {
            "colorbar": {
             "outlinewidth": 0,
             "ticks": ""
            },
            "colorscale": [
             [
              0,
              "#0d0887"
             ],
             [
              0.1111111111111111,
              "#46039f"
             ],
             [
              0.2222222222222222,
              "#7201a8"
             ],
             [
              0.3333333333333333,
              "#9c179e"
             ],
             [
              0.4444444444444444,
              "#bd3786"
             ],
             [
              0.5555555555555556,
              "#d8576b"
             ],
             [
              0.6666666666666666,
              "#ed7953"
             ],
             [
              0.7777777777777778,
              "#fb9f3a"
             ],
             [
              0.8888888888888888,
              "#fdca26"
             ],
             [
              1,
              "#f0f921"
             ]
            ],
            "type": "heatmap"
           }
          ],
          "heatmapgl": [
           {
            "colorbar": {
             "outlinewidth": 0,
             "ticks": ""
            },
            "colorscale": [
             [
              0,
              "#0d0887"
             ],
             [
              0.1111111111111111,
              "#46039f"
             ],
             [
              0.2222222222222222,
              "#7201a8"
             ],
             [
              0.3333333333333333,
              "#9c179e"
             ],
             [
              0.4444444444444444,
              "#bd3786"
             ],
             [
              0.5555555555555556,
              "#d8576b"
             ],
             [
              0.6666666666666666,
              "#ed7953"
             ],
             [
              0.7777777777777778,
              "#fb9f3a"
             ],
             [
              0.8888888888888888,
              "#fdca26"
             ],
             [
              1,
              "#f0f921"
             ]
            ],
            "type": "heatmapgl"
           }
          ],
          "histogram": [
           {
            "marker": {
             "pattern": {
              "fillmode": "overlay",
              "size": 10,
              "solidity": 0.2
             }
            },
            "type": "histogram"
           }
          ],
          "histogram2d": [
           {
            "colorbar": {
             "outlinewidth": 0,
             "ticks": ""
            },
            "colorscale": [
             [
              0,
              "#0d0887"
             ],
             [
              0.1111111111111111,
              "#46039f"
             ],
             [
              0.2222222222222222,
              "#7201a8"
             ],
             [
              0.3333333333333333,
              "#9c179e"
             ],
             [
              0.4444444444444444,
              "#bd3786"
             ],
             [
              0.5555555555555556,
              "#d8576b"
             ],
             [
              0.6666666666666666,
              "#ed7953"
             ],
             [
              0.7777777777777778,
              "#fb9f3a"
             ],
             [
              0.8888888888888888,
              "#fdca26"
             ],
             [
              1,
              "#f0f921"
             ]
            ],
            "type": "histogram2d"
           }
          ],
          "histogram2dcontour": [
           {
            "colorbar": {
             "outlinewidth": 0,
             "ticks": ""
            },
            "colorscale": [
             [
              0,
              "#0d0887"
             ],
             [
              0.1111111111111111,
              "#46039f"
             ],
             [
              0.2222222222222222,
              "#7201a8"
             ],
             [
              0.3333333333333333,
              "#9c179e"
             ],
             [
              0.4444444444444444,
              "#bd3786"
             ],
             [
              0.5555555555555556,
              "#d8576b"
             ],
             [
              0.6666666666666666,
              "#ed7953"
             ],
             [
              0.7777777777777778,
              "#fb9f3a"
             ],
             [
              0.8888888888888888,
              "#fdca26"
             ],
             [
              1,
              "#f0f921"
             ]
            ],
            "type": "histogram2dcontour"
           }
          ],
          "mesh3d": [
           {
            "colorbar": {
             "outlinewidth": 0,
             "ticks": ""
            },
            "type": "mesh3d"
           }
          ],
          "parcoords": [
           {
            "line": {
             "colorbar": {
              "outlinewidth": 0,
              "ticks": ""
             }
            },
            "type": "parcoords"
           }
          ],
          "pie": [
           {
            "automargin": true,
            "type": "pie"
           }
          ],
          "scatter": [
           {
            "fillpattern": {
             "fillmode": "overlay",
             "size": 10,
             "solidity": 0.2
            },
            "type": "scatter"
           }
          ],
          "scatter3d": [
           {
            "line": {
             "colorbar": {
              "outlinewidth": 0,
              "ticks": ""
             }
            },
            "marker": {
             "colorbar": {
              "outlinewidth": 0,
              "ticks": ""
             }
            },
            "type": "scatter3d"
           }
          ],
          "scattercarpet": [
           {
            "marker": {
             "colorbar": {
              "outlinewidth": 0,
              "ticks": ""
             }
            },
            "type": "scattercarpet"
           }
          ],
          "scattergeo": [
           {
            "marker": {
             "colorbar": {
              "outlinewidth": 0,
              "ticks": ""
             }
            },
            "type": "scattergeo"
           }
          ],
          "scattergl": [
           {
            "marker": {
             "colorbar": {
              "outlinewidth": 0,
              "ticks": ""
             }
            },
            "type": "scattergl"
           }
          ],
          "scattermapbox": [
           {
            "marker": {
             "colorbar": {
              "outlinewidth": 0,
              "ticks": ""
             }
            },
            "type": "scattermapbox"
           }
          ],
          "scatterpolar": [
           {
            "marker": {
             "colorbar": {
              "outlinewidth": 0,
              "ticks": ""
             }
            },
            "type": "scatterpolar"
           }
          ],
          "scatterpolargl": [
           {
            "marker": {
             "colorbar": {
              "outlinewidth": 0,
              "ticks": ""
             }
            },
            "type": "scatterpolargl"
           }
          ],
          "scatterternary": [
           {
            "marker": {
             "colorbar": {
              "outlinewidth": 0,
              "ticks": ""
             }
            },
            "type": "scatterternary"
           }
          ],
          "surface": [
           {
            "colorbar": {
             "outlinewidth": 0,
             "ticks": ""
            },
            "colorscale": [
             [
              0,
              "#0d0887"
             ],
             [
              0.1111111111111111,
              "#46039f"
             ],
             [
              0.2222222222222222,
              "#7201a8"
             ],
             [
              0.3333333333333333,
              "#9c179e"
             ],
             [
              0.4444444444444444,
              "#bd3786"
             ],
             [
              0.5555555555555556,
              "#d8576b"
             ],
             [
              0.6666666666666666,
              "#ed7953"
             ],
             [
              0.7777777777777778,
              "#fb9f3a"
             ],
             [
              0.8888888888888888,
              "#fdca26"
             ],
             [
              1,
              "#f0f921"
             ]
            ],
            "type": "surface"
           }
          ],
          "table": [
           {
            "cells": {
             "fill": {
              "color": "#EBF0F8"
             },
             "line": {
              "color": "white"
             }
            },
            "header": {
             "fill": {
              "color": "#C8D4E3"
             },
             "line": {
              "color": "white"
             }
            },
            "type": "table"
           }
          ]
         },
         "layout": {
          "annotationdefaults": {
           "arrowcolor": "#2a3f5f",
           "arrowhead": 0,
           "arrowwidth": 1
          },
          "autotypenumbers": "strict",
          "coloraxis": {
           "colorbar": {
            "outlinewidth": 0,
            "ticks": ""
           }
          },
          "colorscale": {
           "diverging": [
            [
             0,
             "#8e0152"
            ],
            [
             0.1,
             "#c51b7d"
            ],
            [
             0.2,
             "#de77ae"
            ],
            [
             0.3,
             "#f1b6da"
            ],
            [
             0.4,
             "#fde0ef"
            ],
            [
             0.5,
             "#f7f7f7"
            ],
            [
             0.6,
             "#e6f5d0"
            ],
            [
             0.7,
             "#b8e186"
            ],
            [
             0.8,
             "#7fbc41"
            ],
            [
             0.9,
             "#4d9221"
            ],
            [
             1,
             "#276419"
            ]
           ],
           "sequential": [
            [
             0,
             "#0d0887"
            ],
            [
             0.1111111111111111,
             "#46039f"
            ],
            [
             0.2222222222222222,
             "#7201a8"
            ],
            [
             0.3333333333333333,
             "#9c179e"
            ],
            [
             0.4444444444444444,
             "#bd3786"
            ],
            [
             0.5555555555555556,
             "#d8576b"
            ],
            [
             0.6666666666666666,
             "#ed7953"
            ],
            [
             0.7777777777777778,
             "#fb9f3a"
            ],
            [
             0.8888888888888888,
             "#fdca26"
            ],
            [
             1,
             "#f0f921"
            ]
           ],
           "sequentialminus": [
            [
             0,
             "#0d0887"
            ],
            [
             0.1111111111111111,
             "#46039f"
            ],
            [
             0.2222222222222222,
             "#7201a8"
            ],
            [
             0.3333333333333333,
             "#9c179e"
            ],
            [
             0.4444444444444444,
             "#bd3786"
            ],
            [
             0.5555555555555556,
             "#d8576b"
            ],
            [
             0.6666666666666666,
             "#ed7953"
            ],
            [
             0.7777777777777778,
             "#fb9f3a"
            ],
            [
             0.8888888888888888,
             "#fdca26"
            ],
            [
             1,
             "#f0f921"
            ]
           ]
          },
          "colorway": [
           "#636efa",
           "#EF553B",
           "#00cc96",
           "#ab63fa",
           "#FFA15A",
           "#19d3f3",
           "#FF6692",
           "#B6E880",
           "#FF97FF",
           "#FECB52"
          ],
          "font": {
           "color": "#2a3f5f"
          },
          "geo": {
           "bgcolor": "white",
           "lakecolor": "white",
           "landcolor": "#E5ECF6",
           "showlakes": true,
           "showland": true,
           "subunitcolor": "white"
          },
          "hoverlabel": {
           "align": "left"
          },
          "hovermode": "closest",
          "mapbox": {
           "style": "light"
          },
          "paper_bgcolor": "white",
          "plot_bgcolor": "#E5ECF6",
          "polar": {
           "angularaxis": {
            "gridcolor": "white",
            "linecolor": "white",
            "ticks": ""
           },
           "bgcolor": "#E5ECF6",
           "radialaxis": {
            "gridcolor": "white",
            "linecolor": "white",
            "ticks": ""
           }
          },
          "scene": {
           "xaxis": {
            "backgroundcolor": "#E5ECF6",
            "gridcolor": "white",
            "gridwidth": 2,
            "linecolor": "white",
            "showbackground": true,
            "ticks": "",
            "zerolinecolor": "white"
           },
           "yaxis": {
            "backgroundcolor": "#E5ECF6",
            "gridcolor": "white",
            "gridwidth": 2,
            "linecolor": "white",
            "showbackground": true,
            "ticks": "",
            "zerolinecolor": "white"
           },
           "zaxis": {
            "backgroundcolor": "#E5ECF6",
            "gridcolor": "white",
            "gridwidth": 2,
            "linecolor": "white",
            "showbackground": true,
            "ticks": "",
            "zerolinecolor": "white"
           }
          },
          "shapedefaults": {
           "line": {
            "color": "#2a3f5f"
           }
          },
          "ternary": {
           "aaxis": {
            "gridcolor": "white",
            "linecolor": "white",
            "ticks": ""
           },
           "baxis": {
            "gridcolor": "white",
            "linecolor": "white",
            "ticks": ""
           },
           "bgcolor": "#E5ECF6",
           "caxis": {
            "gridcolor": "white",
            "linecolor": "white",
            "ticks": ""
           }
          },
          "title": {
           "x": 0.05
          },
          "xaxis": {
           "automargin": true,
           "gridcolor": "white",
           "linecolor": "white",
           "ticks": "",
           "title": {
            "standoff": 15
           },
           "zerolinecolor": "white",
           "zerolinewidth": 2
          },
          "yaxis": {
           "automargin": true,
           "gridcolor": "white",
           "linecolor": "white",
           "ticks": "",
           "title": {
            "standoff": 15
           },
           "zerolinecolor": "white",
           "zerolinewidth": 2
          }
         }
        },
        "width": 1000
       }
      }
     },
     "metadata": {},
     "output_type": "display_data"
    }
   ],
   "source": [
    "px.treemap(\n",
    "    df_renda_variavel, \n",
    "    path=['des_tipo_investimento', 'setor', 'subsetor', 'cod_acao'], \n",
    "    values=\"pct_vlr_acao\",\n",
    "    width=1000, height=800\n",
    "    )"
   ]
  },
  {
   "attachments": {},
   "cell_type": "markdown",
   "metadata": {},
   "source": [
    "---"
   ]
  },
  {
   "cell_type": "code",
   "execution_count": 10,
   "metadata": {},
   "outputs": [
    {
     "name": "stdout",
     "output_type": "stream",
     "text": [
      "Loading x:\\Git\\carteira-investimentos\\src\\data\\b3_posicao\\posicao-2023-06-20.xlsx\n",
      "df.shape: (17, 13)\n",
      "(14, 8)\n",
      "Loading x:\\Git\\carteira-investimentos\\src\\data\\banco_inter\\extrato-posicao-renda-fixa.pdf\n"
     ]
    },
    {
     "name": "stderr",
     "output_type": "stream",
     "text": [
      "d:\\Users\\brunno\\miniconda3\\envs\\carteira-investimento\\lib\\site-packages\\openpyxl\\styles\\stylesheet.py:226: UserWarning:\n",
      "\n",
      "Workbook contains no default style, apply openpyxl's default\n",
      "\n"
     ]
    },
    {
     "name": "stdout",
     "output_type": "stream",
     "text": [
      "(15, 16)\n"
     ]
    }
   ],
   "source": [
    "df_tesouro_direto = TesouroDireto().run()\n",
    "df_banco_inter = BancoInterRendaFixa().run()"
   ]
  },
  {
   "cell_type": "code",
   "execution_count": 11,
   "metadata": {},
   "outputs": [],
   "source": [
    "df_renda_fixa = pd.concat([\n",
    "    df_tesouro_direto[['setor', 'subsetor', 'des_produto', 'vlr_liquido']], \n",
    "    df_banco_inter[['setor', 'subsetor', 'des_produto', 'vlr_liquido']]\n",
    "])\n",
    "\n",
    "\n",
    "df_renda_fixa[\"vlr_total_carteira\"] = df_renda_fixa.loc[:, \"vlr_liquido\"].sum()\n",
    "df_renda_fixa[\"pct_vlr_liquido\"] = (\n",
    "    df_renda_fixa[\"vlr_liquido\"] / df_renda_fixa[\"vlr_total_carteira\"]\n",
    ") * 100"
   ]
  },
  {
   "cell_type": "code",
   "execution_count": 12,
   "metadata": {},
   "outputs": [
    {
     "data": {
      "application/vnd.plotly.v1+json": {
       "config": {
        "plotlyServerURL": "https://plot.ly"
       },
       "data": [
        {
         "branchvalues": "total",
         "domain": {
          "x": [
           0,
           1
          ],
          "y": [
           0,
           1
          ]
         },
         "hovertemplate": "labels=%{label}<br>pct_vlr_liquido=%{value}<br>parent=%{parent}<br>id=%{id}<extra></extra>",
         "ids": [
          "OUTROS/CDB/CDB 180 DIAS",
          "OUTROS/CDB/CDB ANDBANK",
          "OUTROS/CDB/CDB BDMG",
          "OUTROS/CDB/CDB DAYCOVAL",
          "OUTROS/CDB/CDB LIQUIDEZ DIARIA",
          "OUTROS/CRA/CRA BRF E78 S1",
          "OUTROS/CRA/CRA ZILOR E16S1",
          "OUTROS/CRI/CRI MRL  E1S390",
          "OUTROS/DEBENTURE/DEBENTURE ABFR12",
          "OUTROS/DEBENTURE/DEBENTURE CMGD27",
          "OUTROS/DEBENTURE/DEBENTURE MNAU13",
          "OUTROS/LCA/LCA BOCOM",
          "OUTROS/LCI/LCI DI LIQUIDEZ 90 DIAS",
          "TESOURO DIRETO/IPCA/Tesouro IPCA+ 2026",
          "TESOURO DIRETO/IPCA/Tesouro IPCA+ 2029",
          "TESOURO DIRETO/IPCA/Tesouro IPCA+ com Juros Semestrais 2032",
          "TESOURO DIRETO/PREFIXADO/Tesouro Prefixado 2024",
          "TESOURO DIRETO/PREFIXADO/Tesouro Prefixado 2025",
          "TESOURO DIRETO/PREFIXADO/Tesouro Prefixado 2026",
          "TESOURO DIRETO/PREFIXADO/Tesouro Prefixado 2029",
          "TESOURO DIRETO/SELIC/Tesouro Selic 2025",
          "TESOURO DIRETO/SELIC/Tesouro Selic 2026",
          "TESOURO DIRETO/SELIC/Tesouro Selic 2027",
          "TESOURO DIRETO/SELIC/Tesouro Selic 2029",
          "OUTROS/CDB",
          "OUTROS/CRA",
          "OUTROS/CRI",
          "OUTROS/DEBENTURE",
          "TESOURO DIRETO/IPCA",
          "OUTROS/LCA",
          "OUTROS/LCI",
          "TESOURO DIRETO/PREFIXADO",
          "TESOURO DIRETO/SELIC",
          "OUTROS",
          "TESOURO DIRETO"
         ],
         "labels": [
          "CDB 180 DIAS",
          "CDB ANDBANK",
          "CDB BDMG",
          "CDB DAYCOVAL",
          "CDB LIQUIDEZ DIARIA",
          "CRA BRF E78 S1",
          "CRA ZILOR E16S1",
          "CRI MRL  E1S390",
          "DEBENTURE ABFR12",
          "DEBENTURE CMGD27",
          "DEBENTURE MNAU13",
          "LCA BOCOM",
          "LCI DI LIQUIDEZ 90 DIAS",
          "Tesouro IPCA+ 2026",
          "Tesouro IPCA+ 2029",
          "Tesouro IPCA+ com Juros Semestrais 2032",
          "Tesouro Prefixado 2024",
          "Tesouro Prefixado 2025",
          "Tesouro Prefixado 2026",
          "Tesouro Prefixado 2029",
          "Tesouro Selic 2025",
          "Tesouro Selic 2026",
          "Tesouro Selic 2027",
          "Tesouro Selic 2029",
          "CDB",
          "CRA",
          "CRI",
          "DEBENTURE",
          "IPCA",
          "LCA",
          "LCI",
          "PREFIXADO",
          "SELIC",
          "OUTROS",
          "TESOURO DIRETO"
         ],
         "name": "",
         "parents": [
          "OUTROS/CDB",
          "OUTROS/CDB",
          "OUTROS/CDB",
          "OUTROS/CDB",
          "OUTROS/CDB",
          "OUTROS/CRA",
          "OUTROS/CRA",
          "OUTROS/CRI",
          "OUTROS/DEBENTURE",
          "OUTROS/DEBENTURE",
          "OUTROS/DEBENTURE",
          "OUTROS/LCA",
          "OUTROS/LCI",
          "TESOURO DIRETO/IPCA",
          "TESOURO DIRETO/IPCA",
          "TESOURO DIRETO/IPCA",
          "TESOURO DIRETO/PREFIXADO",
          "TESOURO DIRETO/PREFIXADO",
          "TESOURO DIRETO/PREFIXADO",
          "TESOURO DIRETO/PREFIXADO",
          "TESOURO DIRETO/SELIC",
          "TESOURO DIRETO/SELIC",
          "TESOURO DIRETO/SELIC",
          "TESOURO DIRETO/SELIC",
          "OUTROS",
          "OUTROS",
          "OUTROS",
          "OUTROS",
          "TESOURO DIRETO",
          "OUTROS",
          "OUTROS",
          "TESOURO DIRETO",
          "TESOURO DIRETO",
          "",
          ""
         ],
         "type": "treemap",
         "values": [
          2.4694290161132812,
          2.4790830612182617,
          2.4241690635681152,
          2.404033660888672,
          0.5997611284255981,
          1.2683236598968506,
          1.3108375072479248,
          2.6863150596618652,
          2.658935785293579,
          1.4430197477340698,
          1.4774503707885742,
          2.6288344860076904,
          4.998029708862305,
          9.539921760559082,
          8.654616355895996,
          3.1541459560394287,
          1.3052970170974731,
          3.9548306465148926,
          17.30521583557129,
          1.3670825958251953,
          3.951436758041382,
          13.090758323669434,
          2.5240671634674072,
          6.304405689239502,
          10.376476287841797,
          2.5791611671447754,
          2.6863150596618652,
          5.579405784606934,
          21.348684310913086,
          2.6288344860076904,
          4.998029708862305,
          23.93242645263672,
          25.87066650390625,
          28.848222732543945,
          71.15177917480469
         ]
        }
       ],
       "layout": {
        "height": 800,
        "legend": {
         "tracegroupgap": 0
        },
        "margin": {
         "t": 60
        },
        "template": {
         "data": {
          "bar": [
           {
            "error_x": {
             "color": "#2a3f5f"
            },
            "error_y": {
             "color": "#2a3f5f"
            },
            "marker": {
             "line": {
              "color": "#E5ECF6",
              "width": 0.5
             },
             "pattern": {
              "fillmode": "overlay",
              "size": 10,
              "solidity": 0.2
             }
            },
            "type": "bar"
           }
          ],
          "barpolar": [
           {
            "marker": {
             "line": {
              "color": "#E5ECF6",
              "width": 0.5
             },
             "pattern": {
              "fillmode": "overlay",
              "size": 10,
              "solidity": 0.2
             }
            },
            "type": "barpolar"
           }
          ],
          "carpet": [
           {
            "aaxis": {
             "endlinecolor": "#2a3f5f",
             "gridcolor": "white",
             "linecolor": "white",
             "minorgridcolor": "white",
             "startlinecolor": "#2a3f5f"
            },
            "baxis": {
             "endlinecolor": "#2a3f5f",
             "gridcolor": "white",
             "linecolor": "white",
             "minorgridcolor": "white",
             "startlinecolor": "#2a3f5f"
            },
            "type": "carpet"
           }
          ],
          "choropleth": [
           {
            "colorbar": {
             "outlinewidth": 0,
             "ticks": ""
            },
            "type": "choropleth"
           }
          ],
          "contour": [
           {
            "colorbar": {
             "outlinewidth": 0,
             "ticks": ""
            },
            "colorscale": [
             [
              0,
              "#0d0887"
             ],
             [
              0.1111111111111111,
              "#46039f"
             ],
             [
              0.2222222222222222,
              "#7201a8"
             ],
             [
              0.3333333333333333,
              "#9c179e"
             ],
             [
              0.4444444444444444,
              "#bd3786"
             ],
             [
              0.5555555555555556,
              "#d8576b"
             ],
             [
              0.6666666666666666,
              "#ed7953"
             ],
             [
              0.7777777777777778,
              "#fb9f3a"
             ],
             [
              0.8888888888888888,
              "#fdca26"
             ],
             [
              1,
              "#f0f921"
             ]
            ],
            "type": "contour"
           }
          ],
          "contourcarpet": [
           {
            "colorbar": {
             "outlinewidth": 0,
             "ticks": ""
            },
            "type": "contourcarpet"
           }
          ],
          "heatmap": [
           {
            "colorbar": {
             "outlinewidth": 0,
             "ticks": ""
            },
            "colorscale": [
             [
              0,
              "#0d0887"
             ],
             [
              0.1111111111111111,
              "#46039f"
             ],
             [
              0.2222222222222222,
              "#7201a8"
             ],
             [
              0.3333333333333333,
              "#9c179e"
             ],
             [
              0.4444444444444444,
              "#bd3786"
             ],
             [
              0.5555555555555556,
              "#d8576b"
             ],
             [
              0.6666666666666666,
              "#ed7953"
             ],
             [
              0.7777777777777778,
              "#fb9f3a"
             ],
             [
              0.8888888888888888,
              "#fdca26"
             ],
             [
              1,
              "#f0f921"
             ]
            ],
            "type": "heatmap"
           }
          ],
          "heatmapgl": [
           {
            "colorbar": {
             "outlinewidth": 0,
             "ticks": ""
            },
            "colorscale": [
             [
              0,
              "#0d0887"
             ],
             [
              0.1111111111111111,
              "#46039f"
             ],
             [
              0.2222222222222222,
              "#7201a8"
             ],
             [
              0.3333333333333333,
              "#9c179e"
             ],
             [
              0.4444444444444444,
              "#bd3786"
             ],
             [
              0.5555555555555556,
              "#d8576b"
             ],
             [
              0.6666666666666666,
              "#ed7953"
             ],
             [
              0.7777777777777778,
              "#fb9f3a"
             ],
             [
              0.8888888888888888,
              "#fdca26"
             ],
             [
              1,
              "#f0f921"
             ]
            ],
            "type": "heatmapgl"
           }
          ],
          "histogram": [
           {
            "marker": {
             "pattern": {
              "fillmode": "overlay",
              "size": 10,
              "solidity": 0.2
             }
            },
            "type": "histogram"
           }
          ],
          "histogram2d": [
           {
            "colorbar": {
             "outlinewidth": 0,
             "ticks": ""
            },
            "colorscale": [
             [
              0,
              "#0d0887"
             ],
             [
              0.1111111111111111,
              "#46039f"
             ],
             [
              0.2222222222222222,
              "#7201a8"
             ],
             [
              0.3333333333333333,
              "#9c179e"
             ],
             [
              0.4444444444444444,
              "#bd3786"
             ],
             [
              0.5555555555555556,
              "#d8576b"
             ],
             [
              0.6666666666666666,
              "#ed7953"
             ],
             [
              0.7777777777777778,
              "#fb9f3a"
             ],
             [
              0.8888888888888888,
              "#fdca26"
             ],
             [
              1,
              "#f0f921"
             ]
            ],
            "type": "histogram2d"
           }
          ],
          "histogram2dcontour": [
           {
            "colorbar": {
             "outlinewidth": 0,
             "ticks": ""
            },
            "colorscale": [
             [
              0,
              "#0d0887"
             ],
             [
              0.1111111111111111,
              "#46039f"
             ],
             [
              0.2222222222222222,
              "#7201a8"
             ],
             [
              0.3333333333333333,
              "#9c179e"
             ],
             [
              0.4444444444444444,
              "#bd3786"
             ],
             [
              0.5555555555555556,
              "#d8576b"
             ],
             [
              0.6666666666666666,
              "#ed7953"
             ],
             [
              0.7777777777777778,
              "#fb9f3a"
             ],
             [
              0.8888888888888888,
              "#fdca26"
             ],
             [
              1,
              "#f0f921"
             ]
            ],
            "type": "histogram2dcontour"
           }
          ],
          "mesh3d": [
           {
            "colorbar": {
             "outlinewidth": 0,
             "ticks": ""
            },
            "type": "mesh3d"
           }
          ],
          "parcoords": [
           {
            "line": {
             "colorbar": {
              "outlinewidth": 0,
              "ticks": ""
             }
            },
            "type": "parcoords"
           }
          ],
          "pie": [
           {
            "automargin": true,
            "type": "pie"
           }
          ],
          "scatter": [
           {
            "fillpattern": {
             "fillmode": "overlay",
             "size": 10,
             "solidity": 0.2
            },
            "type": "scatter"
           }
          ],
          "scatter3d": [
           {
            "line": {
             "colorbar": {
              "outlinewidth": 0,
              "ticks": ""
             }
            },
            "marker": {
             "colorbar": {
              "outlinewidth": 0,
              "ticks": ""
             }
            },
            "type": "scatter3d"
           }
          ],
          "scattercarpet": [
           {
            "marker": {
             "colorbar": {
              "outlinewidth": 0,
              "ticks": ""
             }
            },
            "type": "scattercarpet"
           }
          ],
          "scattergeo": [
           {
            "marker": {
             "colorbar": {
              "outlinewidth": 0,
              "ticks": ""
             }
            },
            "type": "scattergeo"
           }
          ],
          "scattergl": [
           {
            "marker": {
             "colorbar": {
              "outlinewidth": 0,
              "ticks": ""
             }
            },
            "type": "scattergl"
           }
          ],
          "scattermapbox": [
           {
            "marker": {
             "colorbar": {
              "outlinewidth": 0,
              "ticks": ""
             }
            },
            "type": "scattermapbox"
           }
          ],
          "scatterpolar": [
           {
            "marker": {
             "colorbar": {
              "outlinewidth": 0,
              "ticks": ""
             }
            },
            "type": "scatterpolar"
           }
          ],
          "scatterpolargl": [
           {
            "marker": {
             "colorbar": {
              "outlinewidth": 0,
              "ticks": ""
             }
            },
            "type": "scatterpolargl"
           }
          ],
          "scatterternary": [
           {
            "marker": {
             "colorbar": {
              "outlinewidth": 0,
              "ticks": ""
             }
            },
            "type": "scatterternary"
           }
          ],
          "surface": [
           {
            "colorbar": {
             "outlinewidth": 0,
             "ticks": ""
            },
            "colorscale": [
             [
              0,
              "#0d0887"
             ],
             [
              0.1111111111111111,
              "#46039f"
             ],
             [
              0.2222222222222222,
              "#7201a8"
             ],
             [
              0.3333333333333333,
              "#9c179e"
             ],
             [
              0.4444444444444444,
              "#bd3786"
             ],
             [
              0.5555555555555556,
              "#d8576b"
             ],
             [
              0.6666666666666666,
              "#ed7953"
             ],
             [
              0.7777777777777778,
              "#fb9f3a"
             ],
             [
              0.8888888888888888,
              "#fdca26"
             ],
             [
              1,
              "#f0f921"
             ]
            ],
            "type": "surface"
           }
          ],
          "table": [
           {
            "cells": {
             "fill": {
              "color": "#EBF0F8"
             },
             "line": {
              "color": "white"
             }
            },
            "header": {
             "fill": {
              "color": "#C8D4E3"
             },
             "line": {
              "color": "white"
             }
            },
            "type": "table"
           }
          ]
         },
         "layout": {
          "annotationdefaults": {
           "arrowcolor": "#2a3f5f",
           "arrowhead": 0,
           "arrowwidth": 1
          },
          "autotypenumbers": "strict",
          "coloraxis": {
           "colorbar": {
            "outlinewidth": 0,
            "ticks": ""
           }
          },
          "colorscale": {
           "diverging": [
            [
             0,
             "#8e0152"
            ],
            [
             0.1,
             "#c51b7d"
            ],
            [
             0.2,
             "#de77ae"
            ],
            [
             0.3,
             "#f1b6da"
            ],
            [
             0.4,
             "#fde0ef"
            ],
            [
             0.5,
             "#f7f7f7"
            ],
            [
             0.6,
             "#e6f5d0"
            ],
            [
             0.7,
             "#b8e186"
            ],
            [
             0.8,
             "#7fbc41"
            ],
            [
             0.9,
             "#4d9221"
            ],
            [
             1,
             "#276419"
            ]
           ],
           "sequential": [
            [
             0,
             "#0d0887"
            ],
            [
             0.1111111111111111,
             "#46039f"
            ],
            [
             0.2222222222222222,
             "#7201a8"
            ],
            [
             0.3333333333333333,
             "#9c179e"
            ],
            [
             0.4444444444444444,
             "#bd3786"
            ],
            [
             0.5555555555555556,
             "#d8576b"
            ],
            [
             0.6666666666666666,
             "#ed7953"
            ],
            [
             0.7777777777777778,
             "#fb9f3a"
            ],
            [
             0.8888888888888888,
             "#fdca26"
            ],
            [
             1,
             "#f0f921"
            ]
           ],
           "sequentialminus": [
            [
             0,
             "#0d0887"
            ],
            [
             0.1111111111111111,
             "#46039f"
            ],
            [
             0.2222222222222222,
             "#7201a8"
            ],
            [
             0.3333333333333333,
             "#9c179e"
            ],
            [
             0.4444444444444444,
             "#bd3786"
            ],
            [
             0.5555555555555556,
             "#d8576b"
            ],
            [
             0.6666666666666666,
             "#ed7953"
            ],
            [
             0.7777777777777778,
             "#fb9f3a"
            ],
            [
             0.8888888888888888,
             "#fdca26"
            ],
            [
             1,
             "#f0f921"
            ]
           ]
          },
          "colorway": [
           "#636efa",
           "#EF553B",
           "#00cc96",
           "#ab63fa",
           "#FFA15A",
           "#19d3f3",
           "#FF6692",
           "#B6E880",
           "#FF97FF",
           "#FECB52"
          ],
          "font": {
           "color": "#2a3f5f"
          },
          "geo": {
           "bgcolor": "white",
           "lakecolor": "white",
           "landcolor": "#E5ECF6",
           "showlakes": true,
           "showland": true,
           "subunitcolor": "white"
          },
          "hoverlabel": {
           "align": "left"
          },
          "hovermode": "closest",
          "mapbox": {
           "style": "light"
          },
          "paper_bgcolor": "white",
          "plot_bgcolor": "#E5ECF6",
          "polar": {
           "angularaxis": {
            "gridcolor": "white",
            "linecolor": "white",
            "ticks": ""
           },
           "bgcolor": "#E5ECF6",
           "radialaxis": {
            "gridcolor": "white",
            "linecolor": "white",
            "ticks": ""
           }
          },
          "scene": {
           "xaxis": {
            "backgroundcolor": "#E5ECF6",
            "gridcolor": "white",
            "gridwidth": 2,
            "linecolor": "white",
            "showbackground": true,
            "ticks": "",
            "zerolinecolor": "white"
           },
           "yaxis": {
            "backgroundcolor": "#E5ECF6",
            "gridcolor": "white",
            "gridwidth": 2,
            "linecolor": "white",
            "showbackground": true,
            "ticks": "",
            "zerolinecolor": "white"
           },
           "zaxis": {
            "backgroundcolor": "#E5ECF6",
            "gridcolor": "white",
            "gridwidth": 2,
            "linecolor": "white",
            "showbackground": true,
            "ticks": "",
            "zerolinecolor": "white"
           }
          },
          "shapedefaults": {
           "line": {
            "color": "#2a3f5f"
           }
          },
          "ternary": {
           "aaxis": {
            "gridcolor": "white",
            "linecolor": "white",
            "ticks": ""
           },
           "baxis": {
            "gridcolor": "white",
            "linecolor": "white",
            "ticks": ""
           },
           "bgcolor": "#E5ECF6",
           "caxis": {
            "gridcolor": "white",
            "linecolor": "white",
            "ticks": ""
           }
          },
          "title": {
           "x": 0.05
          },
          "xaxis": {
           "automargin": true,
           "gridcolor": "white",
           "linecolor": "white",
           "ticks": "",
           "title": {
            "standoff": 15
           },
           "zerolinecolor": "white",
           "zerolinewidth": 2
          },
          "yaxis": {
           "automargin": true,
           "gridcolor": "white",
           "linecolor": "white",
           "ticks": "",
           "title": {
            "standoff": 15
           },
           "zerolinecolor": "white",
           "zerolinewidth": 2
          }
         }
        },
        "width": 1000
       }
      }
     },
     "metadata": {},
     "output_type": "display_data"
    }
   ],
   "source": [
    "px.treemap(\n",
    "    df_renda_fixa, \n",
    "    path=['setor', 'subsetor', 'des_produto'], \n",
    "    values=\"pct_vlr_liquido\",\n",
    "    width=1000, height=800\n",
    "    )"
   ]
  },
  {
   "cell_type": "code",
   "execution_count": null,
   "metadata": {},
   "outputs": [],
   "source": []
  }
 ],
 "metadata": {
  "kernelspec": {
   "display_name": "carteira-investimento",
   "language": "python",
   "name": "python3"
  },
  "language_info": {
   "codemirror_mode": {
    "name": "ipython",
    "version": 3
   },
   "file_extension": ".py",
   "mimetype": "text/x-python",
   "name": "python",
   "nbconvert_exporter": "python",
   "pygments_lexer": "ipython3",
   "version": "3.10.9"
  },
  "orig_nbformat": 4,
  "vscode": {
   "interpreter": {
    "hash": "066830e0826a84028d2b42ea7e64b0567458335b605ad2d353cf492d0e19e1f4"
   }
  }
 },
 "nbformat": 4,
 "nbformat_minor": 2
}
