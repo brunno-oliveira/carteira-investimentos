{
 "cells": [
  {
   "cell_type": "code",
   "execution_count": null,
   "metadata": {},
   "outputs": [],
   "source": [
    "import pandas as pd\n",
    "pd.options.plotting.backend = \"plotly\"\n",
    "\n",
    "from b3.acoes import Acoes\n",
    "from b3.fiis import FIIs\n",
    "from banco_inter.fundos import BancoInterFundos\n",
    "from banco_inter.renda_fixa import BancoInterRendaFixa\n",
    "\n",
    "import plotly.express as px"
   ]
  },
  {
   "cell_type": "code",
   "execution_count": null,
   "metadata": {},
   "outputs": [],
   "source": [
    "df_acoes = Acoes().run()"
   ]
  },
  {
   "cell_type": "code",
   "execution_count": null,
   "metadata": {},
   "outputs": [],
   "source": [
    "df_acoes[['des_categoria_investimento', 'setor', 'subsetor', 'segmento', 'cod_acao', 'vlr_total']]"
   ]
  },
  {
   "cell_type": "code",
   "execution_count": null,
   "metadata": {},
   "outputs": [],
   "source": [
    "px.treemap(\n",
    "    df_acoes[['des_categoria_investimento', 'setor', 'subsetor', 'segmento', 'cod_acao', 'vlr_total']], \n",
    "    path=[\"setor\", \"subsetor\", \"segmento\", \"cod_acao\"], \n",
    "    values=\"vlr_total\",\n",
    "    width=1000, height=800\n",
    "    )"
   ]
  },
  {
   "cell_type": "code",
   "execution_count": null,
   "metadata": {},
   "outputs": [],
   "source": []
  }
 ],
 "metadata": {
  "kernelspec": {
   "display_name": "carteira-investimento",
   "language": "python",
   "name": "python3"
  },
  "language_info": {
   "codemirror_mode": {
    "name": "ipython",
    "version": 3
   },
   "file_extension": ".py",
   "mimetype": "text/x-python",
   "name": "python",
   "nbconvert_exporter": "python",
   "pygments_lexer": "ipython3",
   "version": "3.10.9"
  },
  "orig_nbformat": 4,
  "vscode": {
   "interpreter": {
    "hash": "066830e0826a84028d2b42ea7e64b0567458335b605ad2d353cf492d0e19e1f4"
   }
  }
 },
 "nbformat": 4,
 "nbformat_minor": 2
}
